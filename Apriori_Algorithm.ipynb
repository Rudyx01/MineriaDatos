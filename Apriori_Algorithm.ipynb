{
  "cells": [
    {
      "cell_type": "markdown",
      "metadata": {
        "id": "GMjpW0Sb26ig"
      },
      "source": [
        "#TRABAJO PARCIAL: REGLAS DE ASOCIACIÓN\n",
        "\n",
        "\n",
        "```\n",
        "                                         COD:\n",
        "ALUMNOS:     PÉREZ TOMAYLLA, BRUNO            130322\n",
        "             QUISPE TACURI, RUDI              161135\n",
        "```\n",
        "\n"
      ]
    },
    {
      "cell_type": "markdown",
      "metadata": {
        "id": "15KhevWi7Jrs"
      },
      "source": [
        "# 0. Paquetes necesarios"
      ]
    },
    {
      "cell_type": "code",
      "execution_count": null,
      "metadata": {
        "id": "BWJkBX_e10Sq"
      },
      "outputs": [],
      "source": [
        "import pandas as pd\n",
        "import numpy as np\n",
        "import itertools as it"
      ]
    },
    {
      "cell_type": "markdown",
      "metadata": {
        "id": "3_MV0ZzomZ5i"
      },
      "source": [
        "# 1. Importación de datos"
      ]
    },
    {
      "cell_type": "code",
      "execution_count": null,
      "metadata": {
        "colab": {
          "base_uri": "https://localhost:8080/"
        },
        "id": "RpCwNqhdnAiC",
        "outputId": "1a6f203b-be14-414c-d7b5-5c21ba94451d"
      },
      "outputs": [
        {
          "output_type": "stream",
          "name": "stdout",
          "text": [
            "Mounted at /content/drive\n"
          ]
        }
      ],
      "source": [
        "from google.colab import drive\n",
        "drive.mount('/content/drive')"
      ]
    },
    {
      "cell_type": "code",
      "execution_count": null,
      "metadata": {
        "id": "iCoAuR2Qle0q"
      },
      "outputs": [],
      "source": [
        "# Importamos la database con Numpy\n",
        "DB = np.load('/content/drive/MyDrive/Colab Notebooks/2022-I/Minería de datos/Apriori_Algorithm/spotify.npy', allow_pickle=True)\n",
        "# Conversión de Array a List\n",
        "auxArray = DB.tolist()\n",
        "auxList = [auxArray[i] for i in auxArray]"
      ]
    },
    {
      "cell_type": "code",
      "execution_count": null,
      "metadata": {
        "colab": {
          "base_uri": "https://localhost:8080/"
        },
        "id": "x0mQPOxyWBbe",
        "outputId": "8229f552-d408-45fe-b184-e7051e355ca0"
      },
      "outputs": [
        {
          "output_type": "execute_result",
          "data": {
            "text/plain": [
              "10000"
            ]
          },
          "metadata": {},
          "execution_count": 4
        }
      ],
      "source": [
        "len(auxList)"
      ]
    },
    {
      "cell_type": "markdown",
      "metadata": {
        "id": "zF8XEV1gEpxX"
      },
      "source": [
        "# 2. Módulos auxiliares"
      ]
    },
    {
      "cell_type": "markdown",
      "metadata": {
        "id": "qWN_JWdWgBxJ"
      },
      "source": [
        "## 2.0. Generador de ItemSets candidatos"
      ]
    },
    {
      "cell_type": "code",
      "execution_count": null,
      "metadata": {
        "id": "y65-uLlxQ59q"
      },
      "outputs": [],
      "source": [
        "def Possible_ItemSet_Generator(Older_ItemSet):\n",
        "    # Creamos un arreglo que contenga a todos los ItemSets candidatos\n",
        "    Pos_Itemset = []\n",
        "    # Se realiza la operación de X ∪ Y sobre los items\n",
        "    for k in range(0,len(Older_ItemSet)-1):\n",
        "        for j in range(k+1,len(Older_ItemSet)):\n",
        "            Possible_Item = sorted(list(set(Older_ItemSet[k]+Older_ItemSet[j])))\n",
        "            # Si los padres tenían n-1 elementos, entonces el hijo es considerado un ItemSet\n",
        "            if(len(Possible_Item)==len(Older_ItemSet[0])+1 \n",
        "               and Possible_Item not in Pos_Itemset):\n",
        "                Pos_Itemset.append(Possible_Item)\n",
        "    return Pos_Itemset"
      ]
    },
    {
      "cell_type": "markdown",
      "metadata": {
        "id": "MtRmF5FDlYOq"
      },
      "source": [
        "## 2.1. Contador de ocurrencias de un ItemSet"
      ]
    },
    {
      "cell_type": "code",
      "execution_count": null,
      "metadata": {
        "id": "ROPkp-4kQ6ky"
      },
      "outputs": [],
      "source": [
        "def ItemSet_Incidence_Counter(Pos_Itemset, Dataset):\n",
        "    # Se crea un contador\n",
        "    aux_Count = [0]*len(Pos_Itemset)\n",
        "    # Usaremos un ciclo anidado para contar las incidencias\n",
        "    for k in range(len(Pos_Itemset)):       \n",
        "        Item = Pos_Itemset[k]\n",
        "        # Se recorre el DataSet en busca de una ocurrencia\n",
        "        for tupla in Dataset:\n",
        "            # Unimos cada elemento con el posible ItemSet\n",
        "            tupla = set(tupla)\n",
        "            temp = list(set(Item).union(tupla))\n",
        "            tupla = list(tupla)\n",
        "            # Si tienen la misma dimensión, entonces se actualiza el contador\n",
        "            if(len(temp)==len(tupla)):\n",
        "                aux_Count[k]+=1\n",
        "    return aux_Count"
      ]
    },
    {
      "cell_type": "markdown",
      "metadata": {
        "id": "OgStkp-5sBVL"
      },
      "source": [
        "## 2.2. Módulo de depuración de ItemSets"
      ]
    },
    {
      "cell_type": "markdown",
      "metadata": {
        "id": "M-boyR7msJ_F"
      },
      "source": [
        "Esta función tendrá como objetivo depurar aquellos ItemSets cuyo Confidence no supere el umbral"
      ]
    },
    {
      "cell_type": "code",
      "execution_count": null,
      "metadata": {
        "id": "_oD2OygwQ9Zr"
      },
      "outputs": [],
      "source": [
        "def ItemSet_Debugging(Itemset,Values,umbral):\n",
        "    Valid_Items = []\n",
        "    # Solo se añadirán aquellos valores que sean mayores o iguales al umbral\n",
        "    for current_value in Values:\n",
        "        Valid_Items.append(current_value>=umbral)\n",
        "    # Se crean dos listas que solo contendrán elementos que hayan superado el requisito anterior\n",
        "    clean_ItemSet = list(it.compress(Itemset,Valid_Items))\n",
        "    clean_values = list(it.compress(Values,Valid_Items))\n",
        "    return clean_ItemSet,clean_values"
      ]
    },
    {
      "cell_type": "markdown",
      "metadata": {
        "id": "J-ezCI3kyy_p"
      },
      "source": [
        "## 2.3. Módulo de generación de reglas posibles"
      ]
    },
    {
      "cell_type": "markdown",
      "metadata": {
        "id": "0RymEKJy1nRl"
      },
      "source": [
        "Esta función obtendrá algunas posibles reglas de asociación"
      ]
    },
    {
      "cell_type": "code",
      "execution_count": null,
      "metadata": {
        "id": "IMtoK4QHRAq7"
      },
      "outputs": [],
      "source": [
        "def Get_Possible_Rules(item):\n",
        "    # Se crea una lista de objetos de tuplas que contienen todas las permutaciones posibles\n",
        "    combinations = list(it.permutations(item))\n",
        "    # Inicializamos arreglos de antecedentes y consecuentes\n",
        "    current_antecedents = []\n",
        "    current_consequents = []\n",
        "    # Analizamos cada permutación\n",
        "    for tupla in combinations:\n",
        "        tupla = list(tupla)\n",
        "        for k in range(1,len(tupla)):\n",
        "            # De acuerdo a la regla X -> Y, se separan dos variables\n",
        "            X, Y = tupla[:k],tupla[k:]\n",
        "            # Ordenamos y añadimos a los arreglos de antecedentes y consecuentes\n",
        "            X.sort() \n",
        "            Y.sort()\n",
        "            current_antecedents.append(X)\n",
        "            current_consequents.append(Y)\n",
        "    return current_antecedents,current_consequents"
      ]
    },
    {
      "cell_type": "markdown",
      "metadata": {
        "id": "jKyYF5Etmiga"
      },
      "source": [
        "## 2.4. Módulo para depuración de reglas"
      ]
    },
    {
      "cell_type": "markdown",
      "metadata": {
        "id": "c49YML3QmqK8"
      },
      "source": [
        "Este módulo se encargará de eliminar las reglas repetidas"
      ]
    },
    {
      "cell_type": "code",
      "execution_count": null,
      "metadata": {
        "id": "DQcN-TRtRBOK"
      },
      "outputs": [],
      "source": [
        "def Repeated_Rules_Cleaning(X,Y):\n",
        "    # Se crea un arreglo booleano de tamaño len(X)\n",
        "    valids = [True]*len(X)    \n",
        "    for k in range(len(X)-1):\n",
        "        # Vemos si el valor actual es válido\n",
        "        if(valids[k]):\n",
        "            for j in range(k+1,len(X)):\n",
        "                # Verificamos si existe un valor repetido\n",
        "                if(valids[j] and X[k] == X[j] and Y[k] == Y[j]):\n",
        "                    valids[j]=False\n",
        "    # Solo se actualizarán las listas con aquellos elementos válidos\n",
        "    X = list(it.compress(X,valids))\n",
        "    Y = list(it.compress(Y,valids))\n",
        "    return X,Y"
      ]
    },
    {
      "cell_type": "markdown",
      "metadata": {
        "id": "ttD8YpTRJZzH"
      },
      "source": [
        "# 3. Módulos principales"
      ]
    },
    {
      "cell_type": "markdown",
      "metadata": {
        "id": "jV2Wvh__FDrY"
      },
      "source": [
        "## 3.0. Módulo para conseguir los Itemsets frecuentes"
      ]
    },
    {
      "cell_type": "markdown",
      "metadata": {
        "id": "8j24hUvmePP5"
      },
      "source": [
        "Recibe la estructura de datos que contiene a las playlists y retorna una estructura con los itemsets frecuentes, bajo un umbral mínimo de confianza."
      ]
    },
    {
      "cell_type": "code",
      "execution_count": null,
      "metadata": {
        "id": "y9lGXBvWE9eC"
      },
      "outputs": [],
      "source": [
        "def get_frequent_itemsets(playlists, min_support):\n",
        "    # arreglos\n",
        "    ItemsetTotal = [] # guardaar todos los itens\n",
        "    ValuesTotals = [] # guardar valores generales\n",
        "    #Arreglos para obtener los itemset\n",
        "    Itemset = []      # guardar lo intems en una nueva transaccion \n",
        "    ValuesItem = []\n",
        "    iteration=1       # numro de iteraciones de la lista\n",
        "    #Ordenamiento\n",
        "    print(' __________________________________')\n",
        "    print('|           Computing...           |')\n",
        "    print(' ‾‾‾‾‾‾‾‾‾‾‾‾‾‾‾‾‾‾‾‾‾‾‾‾‾‾‾‾‾‾‾‾‾‾')\n",
        "    print('|  Itemsets of length: %2i'%(iteration))\n",
        "    # Recorremos los Itemset de las transaciones \n",
        "    for Transaction in playlists:\n",
        "      # recorremos los elementos de cada Itemset\n",
        "        for item in Transaction:\n",
        "          # convertimos en una cadena \n",
        "            item = str(item)\n",
        "            # Determinar si el k-itemset se encuenra en el itemset de las ranssacciones guardadas\n",
        "            if(item in Itemset):\n",
        "              # Incrementar ItensetValues\n",
        "                ValuesItem[Itemset.index(item)]+=1\n",
        "            else:\n",
        "              # Agregar k-itenset\n",
        "                Itemset.append(item)\n",
        "                ValuesItem.append(1)\n",
        "    #determinar longitud del play lista\n",
        "    PlayListLong = len(playlists)\n",
        "    # normalizar los datos del playlist\n",
        "    ValuesItem= [x/PlayListLong for x in ValuesItem]\n",
        "    #realizar una poda de los datos que no pasan \n",
        "    valid_itemset,valid_values= ItemSet_Debugging(Itemset,ValuesItem,min_support)\n",
        "    # realizar un orden d los valores \n",
        "    temp_duplas = dict(zip(valid_itemset,valid_values)).items()\n",
        "    # arreglos \n",
        "    valid_itemset = []\n",
        "    valid_values = []\n",
        "    # guardar duplas de los item\n",
        "    for dupla in sorted(temp_duplas):\n",
        "      # agregar ala validacion del itemset\n",
        "        valid_itemset.append(dupla[0])\n",
        "        valid_values.append(dupla[1])\n",
        "    #Itemset con mayor numero\n",
        "    last_itemset = [[x] for x in valid_itemset]\n",
        "    print(\"|    Done! → Found items: (%i)\"%(len(last_itemset)))\n",
        "    #Comprovamos \n",
        "    while(True):\n",
        "      # si el tamaño del iemset es igual a 0 termina el proceso\n",
        "        if(len(last_itemset)==0):\n",
        "            break\n",
        "        # caso contrario agrega al itemset total\n",
        "        ItemsetTotal.append(last_itemset)\n",
        "        ValuesTotals.append(valid_values)\n",
        "        # si el tamaño es igual a 1 termina el proceso\n",
        "        if(len(last_itemset)==1):\n",
        "            break \n",
        "        # incrementa la iteracion    \n",
        "        iteration+=1\n",
        "        print('|  Itemsets of length: %2i'%(iteration))\n",
        "        Pos_Itemset = Possible_ItemSet_Generator(last_itemset)\n",
        "        Val_PosItems = ItemSet_Incidence_Counter(Pos_Itemset,playlists)                 \n",
        "        #Valores acumulados, normalizado\n",
        "        Val_PosItems= [x/PlayListLong for x in Val_PosItems]\n",
        "        #Eliminar los itemset que no pasan el umbral del minsupot\n",
        "        last_itemset, valid_values = ItemSet_Debugging(Pos_Itemset,Val_PosItems,min_support)\n",
        "        print(\"|    Done! → Found items: (%i)\"%(len(last_itemset)))\n",
        "    return ItemsetTotal,ValuesTotals"
      ]
    },
    {
      "cell_type": "markdown",
      "metadata": {
        "id": "PiY3RBCGFqs1"
      },
      "source": [
        "## 3.1. Módulo para generar la reglas de asociación"
      ]
    },
    {
      "cell_type": "markdown",
      "metadata": {
        "id": "fqJNxlahF6OH"
      },
      "source": [
        "Se reciben todos los ItemSets y da inicio un proceso de:\n",
        "*   Combinaciones - Permutaciones\n",
        "*   Depuración \n",
        "*   Cálculo de métricas"
      ]
    },
    {
      "cell_type": "code",
      "execution_count": null,
      "metadata": {
        "id": "qV5ZrUIwQzNz"
      },
      "outputs": [],
      "source": [
        "def generate_association_rules(frequent_itemsets, confidence = 0, lift =0):\n",
        "    # Arrego para todas reglas que tienen un minsuport \n",
        "    All_rules = []\n",
        "    # Arreglo par guardar los lift\n",
        "    All_lift = []\n",
        "    #arreglo para guardar las confianzas\n",
        "    All_confidence = []\n",
        "    # Arreglo de lo support\n",
        "    All_support = []\n",
        "    #reglas \n",
        "    Long_rule = 2\n",
        "    # obtener el primer k-itemset del antesendente \n",
        "    itemsets = frequent_itemsets[0]\n",
        "    #obtener el segundo k itemser del antesedente\n",
        "    itemsvalues = frequent_itemsets[1]\n",
        "    # lista del antesensente\n",
        "    Antesedente = []\n",
        "    # lista del consecuente\n",
        "    Consecuente = []\n",
        "    print(' ________________________________________________')\n",
        "    print('|       Combining all possible rules...          |')\n",
        "    #Obtencion de todas las reglas \n",
        "    while(Long_rule <= len(itemsets)):\n",
        "       # determinar el ulimo elemento del antesedente \n",
        "        itemset_actual = itemsets[Long_rule-1]\n",
        "        for item in itemset_actual:\n",
        "           # determinar los item\n",
        "            xante,yconse = Get_Possible_Rules(item)\n",
        "            # determinar los item al antsendente\n",
        "            Antesedente+=xante\n",
        "            # Agregar al consecuente\n",
        "            Consecuente+=yconse\n",
        "        # increento del tamñao de la regla\n",
        "        Long_rule+=1    \n",
        "    print('|       Debugging repeated rules...              |')\n",
        "    #eliminar regla repetidas\n",
        "    Antesedente,Consecuente = Repeated_Rules_Cleaning(Antesedente,Consecuente)\n",
        "    print('|       Estimating Lift & Confidence...          |')\n",
        "    print('|‾‾‾‾‾‾‾‾‾‾‾‾‾‾‾‾‾‾‾‾‾‾‾‾‾‾‾‾‾‾‾‾‾‾‾‾‾‾‾‾‾‾‾‾‾‾‾‾|')\n",
        "    print('|                    DONE!                       |')\n",
        "    print(' ‾‾‾‾‾‾‾‾‾‾‾‾‾‾‾‾‾‾‾‾‾‾‾‾‾‾‾‾‾‾‾‾‾‾‾‾‾‾‾‾‾‾‾‾‾‾‾‾')\n",
        "    # calulo del fit y confianza \n",
        "    for k in range(len(Antesedente)):\n",
        "        x = Antesedente[k]\n",
        "        y = Consecuente[k]\n",
        "        # agrega datos al consecuente\n",
        "        _AntecdetConsecuent = x+y\n",
        "        # realizar un ordenamiento\n",
        "        _AntecdetConsecuent.sort()\n",
        "        # posicion cambia al consecuente\n",
        "        Position = itemsets[len(x)-1].index(x)\n",
        "        # Posicion del antesendente \n",
        "        PosiAntesedent = itemsvalues[len(x)-1][Position]\n",
        "        # posicion del itemset\n",
        "        Position = itemsets[len(y)-1].index(y)\n",
        "        # item que que envia al consecuente\n",
        "        PosiConsecuent = itemsvalues[len(y)-1][Position]\n",
        "        # posicion \n",
        "        Position = itemsets[len(_AntecdetConsecuent)-1].index(_AntecdetConsecuent)\n",
        "        P_AntecdetConsecuent = itemsvalues[len(_AntecdetConsecuent)-1][Position]\n",
        "        #Calculamos la confianza y el lift\n",
        "        confianza_act = P_AntecdetConsecuent/PosiAntesedent\n",
        "        lift_act = P_AntecdetConsecuent/PosiAntesedent/PosiConsecuent\n",
        "        #determinamos is pasa el humbral\n",
        "        if(lift_act >= lift and confianza_act >= confidence):\n",
        "            All_rules.append([x,y])\n",
        "            # agrgar las confianzas\n",
        "            All_confidence.append(confianza_act)\n",
        "            # agregar la metrica del lift\n",
        "            All_lift.append(lift_act)\n",
        "            # determinar del supor \n",
        "            All_support.append(P_AntecdetConsecuent)\n",
        "            \n",
        "    return  All_rules,All_confidence,All_lift,All_support"
      ]
    },
    {
      "cell_type": "markdown",
      "metadata": {
        "id": "T2hFOoN0tzjM"
      },
      "source": [
        "# 4. Fase de ejecución"
      ]
    },
    {
      "cell_type": "markdown",
      "metadata": {
        "id": "IEABNdpPOD-n"
      },
      "source": [
        "## 4.1. Ejecutamos los módulos principales"
      ]
    },
    {
      "cell_type": "code",
      "execution_count": null,
      "metadata": {
        "colab": {
          "base_uri": "https://localhost:8080/"
        },
        "id": "mOC1jUXMKE51",
        "outputId": "58945bf5-2859-465c-e0fc-72ba6d60ea5c"
      },
      "outputs": [
        {
          "output_type": "stream",
          "name": "stdout",
          "text": [
            " __________________________________\n",
            "|           Computing...           |\n",
            " ‾‾‾‾‾‾‾‾‾‾‾‾‾‾‾‾‾‾‾‾‾‾‾‾‾‾‾‾‾‾‾‾‾‾\n",
            "|  Itemsets of length:  1\n",
            "|    Done! → Found items: (313)\n",
            "|  Itemsets of length:  2\n",
            "|    Done! → Found items: (12)\n",
            "|  Itemsets of length:  3\n",
            "|    Done! → Found items: (0)\n"
          ]
        }
      ],
      "source": [
        "#@title Ingrese el valor del min_Support { form-width: \"50%\" }\n",
        "\n",
        "Support = 0.016 #@param {type:\"slider\", min:0, max:0.05, step:0.001}\n",
        "\n",
        "total_Itemsets,total_valores = get_frequent_itemsets(auxList, Support)"
      ]
    },
    {
      "cell_type": "markdown",
      "metadata": {
        "id": "wJM_9p6mMlyG"
      },
      "source": [
        "Imprimimos todos los ItemSets que encontramos"
      ]
    },
    {
      "cell_type": "code",
      "execution_count": null,
      "metadata": {
        "id": "HhkCCeqpRSBt",
        "colab": {
          "base_uri": "https://localhost:8080/"
        },
        "outputId": "4783bbd9-e065-4f8c-d8b4-dd00eb449882"
      },
      "outputs": [
        {
          "output_type": "stream",
          "name": "stdout",
          "text": [
            " ______________________________________________________________\n",
            "|   \t\t Maximum length found: 2\t\t       |\n",
            " ‾‾‾‾‾‾‾‾‾‾‾‾‾‾‾‾‾‾‾‾‾‾‾‾‾‾‾‾‾‾‾‾‾‾‾‾‾‾‾‾‾‾‾‾‾‾‾‾‾‾‾‾‾‾‾‾‾‾‾‾‾‾\n",
            "\n",
            " __________________________________\n",
            "|          Length :   1            |\n",
            " ‾‾‾‾‾‾‾‾‾‾‾‾‾‾‾‾‾‾‾‾‾‾‾‾‾‾‾‾‾‾‾‾‾‾\n",
            "1.72 \t || \t [\"'Till I Collapse\"] \n",
            "1.63 \t || \t ['0 To 100 / The Catch Up'] \n",
            "2.64 \t || \t ['1-800-273-8255'] \n",
            "1.68 \t || \t ['24K Magic'] \n",
            "2.46 \t || \t ['679 (feat. Remy Boyz)'] \n",
            "1.97 \t || \t ['7 Years'] \n",
            "1.71 \t || \t ['Africa'] \n",
            "2.14 \t || \t ['Again'] \n",
            "2.33 \t || \t [\"Ain't No Mountain High Enough\"] \n",
            "2.33 \t || \t ['Alive'] \n",
            "2.34 \t || \t ['All I Want'] \n",
            "1.88 \t || \t ['All My Friends'] \n",
            "1.66 \t || \t ['All Night (feat. Knox Fortune)'] \n",
            "1.68 \t || \t ['All Star'] \n",
            "1.65 \t || \t ['All The Small Things'] \n",
            "1.92 \t || \t ['All Time Low'] \n",
            "2.41 \t || \t ['All of Me'] \n",
            "2.15 \t || \t ['Alone'] \n",
            "2.81 \t || \t ['Alright'] \n",
            "2.25 \t || \t ['Angel'] \n",
            "2.64 \t || \t ['Antidote'] \n",
            "1.67 \t || \t ['Back To Back'] \n",
            "3.53 \t || \t ['Bad and Boujee (feat. Lil Uzi Vert)'] \n",
            "1.87 \t || \t ['Bang Bang'] \n",
            "2.31 \t || \t ['Bank Account'] \n",
            "2.02 \t || \t ['Beautiful'] \n",
            "2.20 \t || \t ['Believe'] \n",
            "2.54 \t || \t ['Believer'] \n",
            "1.99 \t || \t ['Billie Jean'] \n",
            "2.96 \t || \t ['Black Beatles'] \n",
            "2.84 \t || \t ['Blessings'] \n",
            "1.89 \t || \t ['Bodak Yellow'] \n",
            "2.73 \t || \t ['Body Like A Back Road'] \n",
            "2.43 \t || \t ['Bohemian Rhapsody - Remastered 2011'] \n",
            "1.76 \t || \t ['Bonfire'] \n",
            "3.00 \t || \t ['Bounce Back'] \n",
            "1.65 \t || \t ['Breezeblocks'] \n",
            "4.02 \t || \t ['Broccoli (feat. Lil Yachty)'] \n",
            "1.95 \t || \t ['Brown Eyed Girl'] \n",
            "1.64 \t || \t ['Budapest'] \n",
            "1.94 \t || \t ['Butterfly Effect'] \n",
            "1.67 \t || \t [\"Buy U a Drank (Shawty Snappin')\"] \n",
            "2.09 \t || \t ['CAN\\'T STOP THE FEELING! (Original Song from DreamWorks Animation\\'s \"TROLLS\")'] \n",
            "1.72 \t || \t ['Cake By The Ocean'] \n",
            "2.26 \t || \t [\"Can't Feel My Face\"] \n",
            "1.63 \t || \t [\"Can't Help Falling in Love\"] \n",
            "1.86 \t || \t [\"Can't Hold Us - feat. Ray Dalton\"] \n",
            "3.95 \t || \t ['Caroline'] \n",
            "1.64 \t || \t ['Chandelier'] \n",
            "1.86 \t || \t ['Chasing Cars'] \n",
            "2.14 \t || \t ['Cheap Thrills'] \n",
            "1.92 \t || \t ['Cheerleader - Felix Jaehn Remix Radio Edit'] \n",
            "2.18 \t || \t ['Chicken Fried'] \n",
            "2.30 \t || \t ['Chill Bill'] \n",
            "7.61 \t || \t ['Closer'] \n",
            "2.41 \t || \t ['Cold Water (feat. Justin Bieber & MØ)'] \n",
            "1.73 \t || \t ['Come Get Her'] \n",
            "2.07 \t || \t ['Come On Eileen'] \n",
            "4.10 \t || \t ['Congratulations'] \n",
            "2.12 \t || \t ['Controlla'] \n",
            "1.75 \t || \t ['Counting Stars'] \n",
            "2.13 \t || \t ['Crazy'] \n",
            "1.90 \t || \t ['Crazy In Love'] \n",
            "1.71 \t || \t ['Creep'] \n",
            "1.74 \t || \t ['Cruise'] \n",
            "2.32 \t || \t ['DNA.'] \n",
            "2.62 \t || \t ['Deja Vu'] \n",
            "1.95 \t || \t ['Demons'] \n",
            "2.88 \t || \t ['Despacito - Remix'] \n",
            "2.10 \t || \t ['Die A Happy Man'] \n",
            "1.65 \t || \t ['Do I Wanna Know?'] \n",
            "3.11 \t || \t [\"Don't\"] \n",
            "3.22 \t || \t [\"Don't Let Me Down\"] \n",
            "2.71 \t || \t [\"Don't Stop Believin'\"] \n",
            "2.96 \t || \t ['Down'] \n",
            "1.60 \t || \t ['Dream On'] \n",
            "2.42 \t || \t ['Drive'] \n",
            "1.67 \t || \t ['Drops of Jupiter'] \n",
            "1.95 \t || \t ['Drowning (feat. Kodak Black)'] \n",
            "1.91 \t || \t ['Earned It (Fifty Shades Of Grey)'] \n",
            "1.82 \t || \t ['Electric Love'] \n",
            "1.69 \t || \t ['Energy'] \n",
            "1.94 \t || \t ['Everyday'] \n",
            "1.72 \t || \t ['Exchange'] \n",
            "2.29 \t || \t [\"F**kin' Problems\"] \n",
            "1.94 \t || \t ['Faded'] \n",
            "3.07 \t || \t ['Fake Love'] \n",
            "2.12 \t || \t ['Famous'] \n",
            "1.83 \t || \t ['Fancy'] \n",
            "2.34 \t || \t ['Fast Car'] \n",
            "1.65 \t || \t ['Father Stretch My Hands Pt. 1'] \n",
            "1.68 \t || \t ['Feels'] \n",
            "1.67 \t || \t ['Flex (Ooh, Ooh, Ooh)'] \n",
            "3.37 \t || \t ['Forever'] \n",
            "1.60 \t || \t ['G.O.M.D.'] \n",
            "1.73 \t || \t ['Get Low - Street'] \n",
            "1.68 \t || \t ['Ghost'] \n",
            "1.74 \t || \t ['Go Flex'] \n",
            "3.86 \t || \t ['Gold'] \n",
            "2.91 \t || \t ['Gold Digger'] \n",
            "2.11 \t || \t ['Gravity'] \n",
            "4.70 \t || \t ['HUMBLE.'] \n",
            "2.83 \t || \t ['Hallelujah'] \n",
            "2.00 \t || \t ['Halo'] \n",
            "1.61 \t || \t ['HeadBand (feat. 2 Chainz)'] \n",
            "1.76 \t || \t ['Heartbeat'] \n",
            "2.28 \t || \t ['Heathens'] \n",
            "3.05 \t || \t ['Hello'] \n",
            "1.92 \t || \t ['Hero'] \n",
            "1.90 \t || \t ['Hey There Delilah'] \n",
            "2.12 \t || \t ['Hey Ya! - Radio Mix / Club Mix'] \n",
            "1.66 \t || \t ['Hey, Soul Sister'] \n",
            "1.86 \t || \t [\"Hips Don't Lie\"] \n",
            "1.73 \t || \t ['Ho Hey'] \n",
            "2.35 \t || \t ['Hold On'] \n",
            "1.63 \t || \t [\"Hold On, We're Going Home\"] \n",
            "4.89 \t || \t ['Home'] \n",
            "1.86 \t || \t ['Hotel California - Remastered'] \n",
            "2.77 \t || \t ['Hotline Bling'] \n",
            "1.88 \t || \t ['House Party'] \n",
            "1.65 \t || \t ['How Deep Is Your Love'] \n",
            "1.69 \t || \t ['How to Save a Life'] \n",
            "2.90 \t || \t ['Hurricane'] \n",
            "2.41 \t || \t [\"I Don't Fuck With You\"] \n",
            "1.70 \t || \t ['I Miss You'] \n",
            "2.25 \t || \t ['I Took A Pill In Ibiza - Seeb Remix'] \n",
            "1.94 \t || \t ['I Want You Back'] \n",
            "1.61 \t || \t [\"I Won't Give Up\"] \n",
            "2.48 \t || \t [\"I'm Yours\"] \n",
            "3.21 \t || \t [\"I'm the One\"] \n",
            "1.84 \t || \t ['IV. sweatpants'] \n",
            "3.19 \t || \t ['Ignition - Remix'] \n",
            "1.74 \t || \t ['In Da Club'] \n",
            "1.74 \t || \t ['In the Name of Love'] \n",
            "2.30 \t || \t ['Intro'] \n",
            "1.72 \t || \t ['Issues'] \n",
            "1.64 \t || \t [\"It Ain't Me (with Selena Gomez)\"] \n",
            "2.21 \t || \t [\"It Wasn't Me\"] \n",
            "1.61 \t || \t [\"It's A Vibe\"] \n",
            "1.84 \t || \t [\"Jessie's Girl\"] \n",
            "2.90 \t || \t ['Jumpman'] \n",
            "2.25 \t || \t ['Jungle'] \n",
            "2.00 \t || \t ['Kids'] \n",
            "1.64 \t || \t ['Kiss Me'] \n",
            "1.63 \t || \t ['Knee Deep (feat. Jimmy Buffett)'] \n",
            "1.81 \t || \t ['LOVE. FEAT. ZACARI.'] \n",
            "1.84 \t || \t ['Landslide'] \n",
            "1.65 \t || \t ['Latch'] \n",
            "1.92 \t || \t ['Lay Me Down'] \n",
            "2.76 \t || \t ['Lean On (feat. MØ & DJ Snake)'] \n",
            "2.34 \t || \t ['Let Her Go'] \n",
            "2.81 \t || \t ['Let It Go'] \n",
            "4.03 \t || \t ['Let Me Love You'] \n",
            "1.64 \t || \t ['Little Talks'] \n",
            "1.70 \t || \t [\"Livin' On A Prayer\"] \n",
            "3.26 \t || \t ['Location'] \n",
            "1.96 \t || \t ['Lose Yourself - Soundtrack Version'] \n",
            "1.84 \t || \t ['Love Me'] \n",
            "2.22 \t || \t ['Love Yourself'] \n",
            "2.41 \t || \t ['Low Life'] \n",
            "2.00 \t || \t ['Magnolia'] \n",
            "3.16 \t || \t ['Mask Off'] \n",
            "2.47 \t || \t ['Me, Myself & I'] \n",
            "3.18 \t || \t ['Mercy'] \n",
            "2.31 \t || \t ['Middle'] \n",
            "1.68 \t || \t ['Midnight City'] \n",
            "1.97 \t || \t ['Money Longer'] \n",
            "2.32 \t || \t ['Monster'] \n",
            "2.50 \t || \t ['Mr. Brightside'] \n",
            "2.95 \t || \t ['My Girl'] \n",
            "2.10 \t || \t ['My House'] \n",
            "2.42 \t || \t ['Needed Me'] \n",
            "2.32 \t || \t ['Never Be Like You'] \n",
            "1.63 \t || \t ['Never Forget You'] \n",
            "2.84 \t || \t ['Ni**as In Paris'] \n",
            "2.08 \t || \t ['No Diggity'] \n",
            "1.94 \t || \t ['No Hands (feat. Roscoe Dash and Wale) - Explicit Album Version'] \n",
            "3.23 \t || \t ['No Problem (feat. Lil Wayne & 2 Chainz)'] \n",
            "3.12 \t || \t ['No Role Modelz'] \n",
            "1.79 \t || \t ['No Type'] \n",
            "1.87 \t || \t ['Numb'] \n",
            "1.66 \t || \t ['Often'] \n",
            "4.33 \t || \t ['One Dance'] \n",
            "1.74 \t || \t ['One Night'] \n",
            "1.66 \t || \t ['Only'] \n",
            "1.87 \t || \t ['Ophelia'] \n",
            "1.63 \t || \t ['PILLOWTALK'] \n",
            "3.20 \t || \t ['Panda'] \n",
            "2.26 \t || \t ['Paradise'] \n",
            "2.67 \t || \t ['Paris'] \n",
            "2.17 \t || \t ['Party In The U.S.A.'] \n",
            "2.57 \t || \t ['Passionfruit'] \n",
            "2.11 \t || \t ['Perfect'] \n",
            "2.19 \t || \t ['Photograph'] \n",
            "1.68 \t || \t ['Piano Man'] \n",
            "1.64 \t || \t ['Planez'] \n",
            "1.97 \t || \t ['Play It Again'] \n",
            "1.90 \t || \t ['Pompeii'] \n",
            "1.61 \t || \t ['Pony'] \n",
            "1.90 \t || \t ['Pop Style'] \n",
            "1.73 \t || \t ['Portland'] \n",
            "1.66 \t || \t ['Promiscuous'] \n",
            "1.80 \t || \t ['Promise'] \n",
            "1.88 \t || \t ['Pumped Up Kicks'] \n",
            "2.46 \t || \t ['Radioactive'] \n",
            "1.83 \t || \t ['Rather Be (feat. Jess Glynne)'] \n",
            "2.85 \t || \t ['Redbone'] \n",
            "1.64 \t || \t ['Rich Girl'] \n",
            "4.29 \t || \t ['Ride'] \n",
            "3.39 \t || \t ['Riptide'] \n",
            "1.61 \t || \t ['Rolex'] \n",
            "4.36 \t || \t ['Roses'] \n",
            "1.83 \t || \t ['Runaway'] \n",
            "1.89 \t || \t ['Sail'] \n",
            "1.75 \t || \t ['Santeria'] \n",
            "2.86 \t || \t ['Say It'] \n",
            "2.68 \t || \t ['Say My Name'] \n",
            "1.62 \t || \t ['Say Something'] \n",
            "2.07 \t || \t [\"Say You Won't Let Go\"] \n",
            "1.82 \t || \t ['Secrets'] \n",
            "2.71 \t || \t ['Selfish'] \n",
            "2.61 \t || \t ['September'] \n",
            "1.77 \t || \t ['Seven Nation Army'] \n",
            "3.21 \t || \t ['Shape of You'] \n",
            "1.90 \t || \t ['She Will Be Loved - Radio Mix'] \n",
            "2.29 \t || \t ['Shut Up and Dance'] \n",
            "1.62 \t || \t ['Side To Side'] \n",
            "2.14 \t || \t ['Silent Night'] \n",
            "2.73 \t || \t ['Skinny Love'] \n",
            "3.23 \t || \t ['Slide'] \n",
            "2.41 \t || \t ['Slippery (feat. Gucci Mane)'] \n",
            "1.89 \t || \t ['Slow Motion'] \n",
            "1.71 \t || \t ['Smells Like Teen Spirit'] \n",
            "1.81 \t || \t ['Smile'] \n",
            "2.50 \t || \t ['Sober'] \n",
            "1.62 \t || \t ['Someday'] \n",
            "2.22 \t || \t ['Something Just Like This'] \n",
            "3.30 \t || \t ['Sorry'] \n",
            "1.85 \t || \t ['Sorry Not Sorry'] \n",
            "1.66 \t || \t ['Springsteen'] \n",
            "2.85 \t || \t ['Starboy'] \n",
            "1.83 \t || \t ['Starving'] \n",
            "3.55 \t || \t ['Stay'] \n",
            "2.18 \t || \t ['Stay (with Alessia Cara)'] \n",
            "2.05 \t || \t ['Stay With Me'] \n",
            "1.74 \t || \t ['Stitches'] \n",
            "1.91 \t || \t ['Stolen Dance'] \n",
            "2.28 \t || \t ['Stressed Out'] \n",
            "2.63 \t || \t ['Stronger'] \n",
            "2.04 \t || \t ['Sugar'] \n",
            "2.07 \t || \t ['Summer'] \n",
            "1.70 \t || \t ['Summertime'] \n",
            "1.68 \t || \t ['Sunday Morning'] \n",
            "2.23 \t || \t ['Swang'] \n",
            "1.80 \t || \t ['Sweater Weather'] \n",
            "1.72 \t || \t ['Sweet Caroline'] \n",
            "2.13 \t || \t [\"Sweet Child O' Mine\"] \n",
            "2.15 \t || \t ['Sweet Home Alabama'] \n",
            "1.74 \t || \t ['Swimming Pools (Drank)'] \n",
            "3.55 \t || \t ['T-Shirt'] \n",
            "1.95 \t || \t ['Take Me To Church'] \n",
            "1.64 \t || \t ['Take Your Time'] \n",
            "2.64 \t || \t [\"That's What I Like\"] \n",
            "2.80 \t || \t ['The Hills'] \n",
            "1.90 \t || \t ['Thinkin Bout You'] \n",
            "2.38 \t || \t ['Thinking Out Loud'] \n",
            "1.61 \t || \t ['This Could Be Us'] \n",
            "2.15 \t || \t ['This Is What You Came For'] \n",
            "1.94 \t || \t ['Thunder'] \n",
            "1.62 \t || \t ['Toes'] \n",
            "2.04 \t || \t ['Too Good'] \n",
            "2.98 \t || \t ['Trap Queen'] \n",
            "2.19 \t || \t ['Trouble'] \n",
            "2.52 \t || \t ['Tunnel Vision'] \n",
            "1.62 \t || \t ['Under The Bridge'] \n",
            "3.31 \t || \t ['Unforgettable'] \n",
            "2.33 \t || \t ['Uptown Funk'] \n",
            "2.22 \t || \t ['V. 3005'] \n",
            "2.47 \t || \t ['Wagon Wheel'] \n",
            "1.71 \t || \t ['Wake Me Up - Radio Edit'] \n",
            "2.15 \t || \t ['Wake Up'] \n",
            "1.73 \t || \t ['Wasted'] \n",
            "1.76 \t || \t ['Water'] \n",
            "2.48 \t || \t ['Waves'] \n",
            "1.75 \t || \t ['Weak'] \n",
            "1.93 \t || \t ['Wet Dreamz'] \n",
            "2.20 \t || \t ['What Do You Mean?'] \n",
            "1.82 \t || \t ['What They Want'] \n",
            "2.01 \t || \t ['Where Are Ü Now (with Justin Bieber)'] \n",
            "3.06 \t || \t ['White Iverson'] \n",
            "1.93 \t || \t ['Wild Thoughts'] \n",
            "2.30 \t || \t ['With You'] \n",
            "1.84 \t || \t ['Wonderwall - Remastered'] \n",
            "2.71 \t || \t ['Work'] \n",
            "2.22 \t || \t ['Work from Home'] \n",
            "2.05 \t || \t ['X (feat. Future)'] \n",
            "1.75 \t || \t ['XO'] \n",
            "3.30 \t || \t ['XO TOUR Llif3'] \n",
            "2.44 \t || \t ['Yeah!'] \n",
            "2.48 \t || \t ['You'] \n",
            "1.78 \t || \t ['You & Me'] \n",
            "1.66 \t || \t ['You Make My Dreams - Remastered'] \n",
            "1.99 \t || \t ['You Was Right'] \n",
            "2.21 \t || \t ['Young Dumb & Broke'] \n",
            "1.75 \t || \t ['Young, Wild & Free (feat. Bruno Mars) - feat. Bruno Mars'] \n",
            "1.67 \t || \t ['Your Song'] \n",
            "3.08 \t || \t ['goosebumps'] \n",
            "2.07 \t || \t [\"i hate u, i love u (feat. olivia o'brien)\"] \n",
            "3.39 \t || \t ['iSpy (feat. Lil Yachty)'] \n",
            "1.74 \t || \t ['m.A.A.d city'] \n",
            "1.85 \t || \t ['oui'] \n",
            "1.99 \t || \t ['pick up the phone'] \n",
            "2.34 \t || \t ['rockstar'] \n",
            " __________________________________\n",
            "|          Length :   2            |\n",
            " ‾‾‾‾‾‾‾‾‾‾‾‾‾‾‾‾‾‾‾‾‾‾‾‾‾‾‾‾‾‾‾‾‾‾\n",
            "1.69 \t || \t ['Bad and Boujee (feat. Lil Uzi Vert)', 'Bounce Back'] \n",
            "1.67 \t || \t ['Bad and Boujee (feat. Lil Uzi Vert)', 'HUMBLE.'] \n",
            "1.72 \t || \t ['Broccoli (feat. Lil Yachty)', 'Caroline'] \n",
            "2.14 \t || \t ['Congratulations', 'HUMBLE.'] \n",
            "1.62 \t || \t ['Congratulations', 'Mask Off'] \n",
            "1.79 \t || \t ['Congratulations', 'XO TOUR Llif3'] \n",
            "1.62 \t || \t ['Congratulations', 'iSpy (feat. Lil Yachty)'] \n",
            "1.90 \t || \t ['DNA.', 'HUMBLE.'] \n",
            "2.04 \t || \t ['HUMBLE.', 'Mask Off'] \n",
            "2.04 \t || \t ['HUMBLE.', 'XO TOUR Llif3'] \n",
            "1.67 \t || \t ['HUMBLE.', 'goosebumps'] \n",
            "1.63 \t || \t ['Mask Off', 'XO TOUR Llif3'] \n"
          ]
        }
      ],
      "source": [
        "print(f' ______________________________________________________________')\n",
        "print(f'|   \\t\\t Maximum length found: {len(total_Itemsets)}\\t\\t       |')\n",
        "print(f' ‾‾‾‾‾‾‾‾‾‾‾‾‾‾‾‾‾‾‾‾‾‾‾‾‾‾‾‾‾‾‾‾‾‾‾‾‾‾‾‾‾‾‾‾‾‾‾‾‾‾‾‾‾‾‾‾‾‾‾‾‾‾')\n",
        "print()\n",
        "# Lista de ItemSets encontrados\n",
        "for k in range(len(total_Itemsets)):\n",
        "    print(' __________________________________')\n",
        "    print('|          Length : %3i            |'%(k+1))\n",
        "    print(' ‾‾‾‾‾‾‾‾‾‾‾‾‾‾‾‾‾‾‾‾‾‾‾‾‾‾‾‾‾‾‾‾‾‾')\n",
        "    for j in range(len(total_Itemsets[k])):\n",
        "        print('%3.2f \\t || \\t %s '%(total_valores[k][j]*100,total_Itemsets[k][j]))"
      ]
    },
    {
      "cell_type": "markdown",
      "metadata": {
        "id": "3uLniFtNMz6d"
      },
      "source": [
        "Seguidamente, procedemos a calcular las Reglas de Asociación"
      ]
    },
    {
      "cell_type": "code",
      "execution_count": null,
      "metadata": {
        "id": "iHHsZnyMRVUL",
        "colab": {
          "base_uri": "https://localhost:8080/"
        },
        "outputId": "f1625b28-816a-4bc5-a90a-34ca07d133b4"
      },
      "outputs": [
        {
          "output_type": "stream",
          "name": "stdout",
          "text": [
            " ________________________________________________\n",
            "|       Combining all possible rules...          |\n",
            "|       Debugging repeated rules...              |\n",
            "|       Estimating Lift & Confidence...          |\n",
            "|‾‾‾‾‾‾‾‾‾‾‾‾‾‾‾‾‾‾‾‾‾‾‾‾‾‾‾‾‾‾‾‾‾‾‾‾‾‾‾‾‾‾‾‾‾‾‾‾|\n",
            "|                    DONE!                       |\n",
            " ‾‾‾‾‾‾‾‾‾‾‾‾‾‾‾‾‾‾‾‾‾‾‾‾‾‾‾‾‾‾‾‾‾‾‾‾‾‾‾‾‾‾‾‾‾‾‾‾\n"
          ]
        }
      ],
      "source": [
        "Reglas,Confianza,Lift,Soporte = generate_association_rules([total_Itemsets,total_valores],0.5,10)"
      ]
    },
    {
      "cell_type": "markdown",
      "metadata": {
        "id": "AR9xccR84vST"
      },
      "source": [
        "## 4.2. Mostramos las reglas"
      ]
    },
    {
      "cell_type": "code",
      "execution_count": null,
      "metadata": {
        "id": "T9k8Gpbc4uiq",
        "colab": {
          "base_uri": "https://localhost:8080/",
          "height": 363
        },
        "outputId": "c873c7f2-c9b9-4d60-c624-54f74d551cf3"
      },
      "outputs": [
        {
          "output_type": "execute_result",
          "data": {
            "text/plain": [
              "                       0                                      1  Support  \\\n",
              "index                                                                      \n",
              "0          [Bounce Back]  [Bad and Boujee (feat. Lil Uzi Vert)]   0.0169   \n",
              "1      [Congratulations]                              [HUMBLE.]   0.0214   \n",
              "2             [Mask Off]                      [Congratulations]   0.0162   \n",
              "3        [XO TOUR Llif3]                      [Congratulations]   0.0179   \n",
              "4                 [DNA.]                              [HUMBLE.]   0.0190   \n",
              "5             [Mask Off]                              [HUMBLE.]   0.0204   \n",
              "6        [XO TOUR Llif3]                              [HUMBLE.]   0.0204   \n",
              "7           [goosebumps]                              [HUMBLE.]   0.0167   \n",
              "8             [Mask Off]                        [XO TOUR Llif3]   0.0163   \n",
              "\n",
              "       Confidence       Lift  \n",
              "index                         \n",
              "0        0.563333  15.958451  \n",
              "1        0.521951  11.105345  \n",
              "2        0.512658  12.503859  \n",
              "3        0.542424  13.229860  \n",
              "4        0.818966  17.424798  \n",
              "5        0.645570  13.735524  \n",
              "6        0.618182  13.152805  \n",
              "7        0.542208  11.536336  \n",
              "8        0.515823  15.630993  "
            ],
            "text/html": [
              "\n",
              "  <div id=\"df-6389e7cd-28e9-4164-aadb-3ddcb7d96f10\">\n",
              "    <div class=\"colab-df-container\">\n",
              "      <div>\n",
              "<style scoped>\n",
              "    .dataframe tbody tr th:only-of-type {\n",
              "        vertical-align: middle;\n",
              "    }\n",
              "\n",
              "    .dataframe tbody tr th {\n",
              "        vertical-align: top;\n",
              "    }\n",
              "\n",
              "    .dataframe thead th {\n",
              "        text-align: right;\n",
              "    }\n",
              "</style>\n",
              "<table border=\"1\" class=\"dataframe\">\n",
              "  <thead>\n",
              "    <tr style=\"text-align: right;\">\n",
              "      <th></th>\n",
              "      <th>0</th>\n",
              "      <th>1</th>\n",
              "      <th>Support</th>\n",
              "      <th>Confidence</th>\n",
              "      <th>Lift</th>\n",
              "    </tr>\n",
              "    <tr>\n",
              "      <th>index</th>\n",
              "      <th></th>\n",
              "      <th></th>\n",
              "      <th></th>\n",
              "      <th></th>\n",
              "      <th></th>\n",
              "    </tr>\n",
              "  </thead>\n",
              "  <tbody>\n",
              "    <tr>\n",
              "      <th>0</th>\n",
              "      <td>[Bounce Back]</td>\n",
              "      <td>[Bad and Boujee (feat. Lil Uzi Vert)]</td>\n",
              "      <td>0.0169</td>\n",
              "      <td>0.563333</td>\n",
              "      <td>15.958451</td>\n",
              "    </tr>\n",
              "    <tr>\n",
              "      <th>1</th>\n",
              "      <td>[Congratulations]</td>\n",
              "      <td>[HUMBLE.]</td>\n",
              "      <td>0.0214</td>\n",
              "      <td>0.521951</td>\n",
              "      <td>11.105345</td>\n",
              "    </tr>\n",
              "    <tr>\n",
              "      <th>2</th>\n",
              "      <td>[Mask Off]</td>\n",
              "      <td>[Congratulations]</td>\n",
              "      <td>0.0162</td>\n",
              "      <td>0.512658</td>\n",
              "      <td>12.503859</td>\n",
              "    </tr>\n",
              "    <tr>\n",
              "      <th>3</th>\n",
              "      <td>[XO TOUR Llif3]</td>\n",
              "      <td>[Congratulations]</td>\n",
              "      <td>0.0179</td>\n",
              "      <td>0.542424</td>\n",
              "      <td>13.229860</td>\n",
              "    </tr>\n",
              "    <tr>\n",
              "      <th>4</th>\n",
              "      <td>[DNA.]</td>\n",
              "      <td>[HUMBLE.]</td>\n",
              "      <td>0.0190</td>\n",
              "      <td>0.818966</td>\n",
              "      <td>17.424798</td>\n",
              "    </tr>\n",
              "    <tr>\n",
              "      <th>5</th>\n",
              "      <td>[Mask Off]</td>\n",
              "      <td>[HUMBLE.]</td>\n",
              "      <td>0.0204</td>\n",
              "      <td>0.645570</td>\n",
              "      <td>13.735524</td>\n",
              "    </tr>\n",
              "    <tr>\n",
              "      <th>6</th>\n",
              "      <td>[XO TOUR Llif3]</td>\n",
              "      <td>[HUMBLE.]</td>\n",
              "      <td>0.0204</td>\n",
              "      <td>0.618182</td>\n",
              "      <td>13.152805</td>\n",
              "    </tr>\n",
              "    <tr>\n",
              "      <th>7</th>\n",
              "      <td>[goosebumps]</td>\n",
              "      <td>[HUMBLE.]</td>\n",
              "      <td>0.0167</td>\n",
              "      <td>0.542208</td>\n",
              "      <td>11.536336</td>\n",
              "    </tr>\n",
              "    <tr>\n",
              "      <th>8</th>\n",
              "      <td>[Mask Off]</td>\n",
              "      <td>[XO TOUR Llif3]</td>\n",
              "      <td>0.0163</td>\n",
              "      <td>0.515823</td>\n",
              "      <td>15.630993</td>\n",
              "    </tr>\n",
              "  </tbody>\n",
              "</table>\n",
              "</div>\n",
              "      <button class=\"colab-df-convert\" onclick=\"convertToInteractive('df-6389e7cd-28e9-4164-aadb-3ddcb7d96f10')\"\n",
              "              title=\"Convert this dataframe to an interactive table.\"\n",
              "              style=\"display:none;\">\n",
              "        \n",
              "  <svg xmlns=\"http://www.w3.org/2000/svg\" height=\"24px\"viewBox=\"0 0 24 24\"\n",
              "       width=\"24px\">\n",
              "    <path d=\"M0 0h24v24H0V0z\" fill=\"none\"/>\n",
              "    <path d=\"M18.56 5.44l.94 2.06.94-2.06 2.06-.94-2.06-.94-.94-2.06-.94 2.06-2.06.94zm-11 1L8.5 8.5l.94-2.06 2.06-.94-2.06-.94L8.5 2.5l-.94 2.06-2.06.94zm10 10l.94 2.06.94-2.06 2.06-.94-2.06-.94-.94-2.06-.94 2.06-2.06.94z\"/><path d=\"M17.41 7.96l-1.37-1.37c-.4-.4-.92-.59-1.43-.59-.52 0-1.04.2-1.43.59L10.3 9.45l-7.72 7.72c-.78.78-.78 2.05 0 2.83L4 21.41c.39.39.9.59 1.41.59.51 0 1.02-.2 1.41-.59l7.78-7.78 2.81-2.81c.8-.78.8-2.07 0-2.86zM5.41 20L4 18.59l7.72-7.72 1.47 1.35L5.41 20z\"/>\n",
              "  </svg>\n",
              "      </button>\n",
              "      \n",
              "  <style>\n",
              "    .colab-df-container {\n",
              "      display:flex;\n",
              "      flex-wrap:wrap;\n",
              "      gap: 12px;\n",
              "    }\n",
              "\n",
              "    .colab-df-convert {\n",
              "      background-color: #E8F0FE;\n",
              "      border: none;\n",
              "      border-radius: 50%;\n",
              "      cursor: pointer;\n",
              "      display: none;\n",
              "      fill: #1967D2;\n",
              "      height: 32px;\n",
              "      padding: 0 0 0 0;\n",
              "      width: 32px;\n",
              "    }\n",
              "\n",
              "    .colab-df-convert:hover {\n",
              "      background-color: #E2EBFA;\n",
              "      box-shadow: 0px 1px 2px rgba(60, 64, 67, 0.3), 0px 1px 3px 1px rgba(60, 64, 67, 0.15);\n",
              "      fill: #174EA6;\n",
              "    }\n",
              "\n",
              "    [theme=dark] .colab-df-convert {\n",
              "      background-color: #3B4455;\n",
              "      fill: #D2E3FC;\n",
              "    }\n",
              "\n",
              "    [theme=dark] .colab-df-convert:hover {\n",
              "      background-color: #434B5C;\n",
              "      box-shadow: 0px 1px 3px 1px rgba(0, 0, 0, 0.15);\n",
              "      filter: drop-shadow(0px 1px 2px rgba(0, 0, 0, 0.3));\n",
              "      fill: #FFFFFF;\n",
              "    }\n",
              "  </style>\n",
              "\n",
              "      <script>\n",
              "        const buttonEl =\n",
              "          document.querySelector('#df-6389e7cd-28e9-4164-aadb-3ddcb7d96f10 button.colab-df-convert');\n",
              "        buttonEl.style.display =\n",
              "          google.colab.kernel.accessAllowed ? 'block' : 'none';\n",
              "\n",
              "        async function convertToInteractive(key) {\n",
              "          const element = document.querySelector('#df-6389e7cd-28e9-4164-aadb-3ddcb7d96f10');\n",
              "          const dataTable =\n",
              "            await google.colab.kernel.invokeFunction('convertToInteractive',\n",
              "                                                     [key], {});\n",
              "          if (!dataTable) return;\n",
              "\n",
              "          const docLinkHtml = 'Like what you see? Visit the ' +\n",
              "            '<a target=\"_blank\" href=https://colab.research.google.com/notebooks/data_table.ipynb>data table notebook</a>'\n",
              "            + ' to learn more about interactive tables.';\n",
              "          element.innerHTML = '';\n",
              "          dataTable['output_type'] = 'display_data';\n",
              "          await google.colab.output.renderOutput(dataTable, element);\n",
              "          const docLink = document.createElement('div');\n",
              "          docLink.innerHTML = docLinkHtml;\n",
              "          element.appendChild(docLink);\n",
              "        }\n",
              "      </script>\n",
              "    </div>\n",
              "  </div>\n",
              "  "
            ]
          },
          "metadata": {},
          "execution_count": 15
        }
      ],
      "source": [
        "df = pd.DataFrame(Reglas)\n",
        "df = df.rename_axis('index').reset_index()\n",
        "df.set_index('index',inplace=True)\n",
        "df['Support'] = Soporte\n",
        "df['Confidence'] = Confianza\n",
        "df['Lift'] = Lift\n",
        "df"
      ]
    },
    {
      "cell_type": "markdown",
      "metadata": {
        "id": "3I5fenUFA0FE"
      },
      "source": [
        "# 5. Análisis de los resultados"
      ]
    },
    {
      "cell_type": "markdown",
      "metadata": {
        "id": "bOBkjVFEOokN"
      },
      "source": [
        "## 5.0. Explicación de las reglas obtenidas"
      ]
    },
    {
      "cell_type": "markdown",
      "metadata": {
        "id": "w5ZcZm8IO0iV"
      },
      "source": [
        "‾‾‾‾‾‾‾‾‾‾‾‾‾‾‾‾‾‾‾‾‾‾‾‾‾‾‾‾‾‾‾‾‾‾‾‾‾‾‾‾‾‾‾‾‾‾‾‾‾‾‾‾‾‾‾‾‾‾‾‾\n",
        "*    REGLA Nº: 5\n",
        "*    REGLA: [DNA.] →\t[HUMBLE.] \t\n",
        "*    SUPPORT:    0.0190 \t \t\n",
        "*    CONFIDENCE: 0.818966\n",
        "*    LIFT:       17.424798\n",
        "*    EXPLICACIÓN:Dado que los usuarios de spotfy escuchan DNA(musica del grupo BTS ) tambien tienden los usuarios a escuchar el tema HUMBLE(musica del artista Kendrick Lamar),que en el 1.90% de las 10000 transacciones se eligieron a DNA y HUMBLE en la reproducion del playlist. De un 81.89% de lo casos donde se escucho DNA el usuario tambien escucho HUMBLE.\n",
        "\n",
        "\n",
        "‾‾‾‾‾‾‾‾‾‾‾‾‾‾‾‾‾‾‾‾‾‾‾‾‾‾‾‾‾‾‾‾‾‾‾‾‾‾‾‾‾‾‾‾‾‾‾‾‾‾‾‾‾‾‾‾‾‾‾‾\n",
        "*    REGLA Nº: 6\n",
        "*    REGLA: [Mask Off] →\t[HUMBLE.]\n",
        "*    SUPPORT:    0.0204 \t \t\n",
        "*    CONFIDENCE: 0.645570\n",
        "*    LIFT:       13.735524\n",
        "*    EXPLICACIÓN: Dado que los usuarios de potify que prefieren Mask Off(artista Future) tambien tienden la preferencia del tema HUMBLE(artista Kendrick Lamar), que en un 2.04% de las transacciones de eligieron ambos temas musicales. De un 64.55% de los casos donde se escucho el tema Mask Off el usuario tambien prefirio el tema HUMBLE. \n",
        " \n",
        "‾‾‾‾‾‾‾‾‾‾‾‾‾‾‾‾‾‾‾‾‾‾‾‾‾‾‾‾‾‾‾‾‾‾‾‾‾‾‾‾‾‾‾‾‾‾‾‾‾‾‾‾‾‾‾‾‾‾‾‾\n",
        "*    REGLA Nº: 7\n",
        "*    REGLA: [XO TOUR Llif3] →\t[HUMBLE.]\n",
        "*    SUPPORT: 0.0204\t\n",
        "*    CONFIDENCE: 0.618182\n",
        "*    LIFT: 13.152805\n",
        "*    EXPLICACIÓN:Dado que los usuarios de potify que prefieren XO TOUR Llif3(artista ) tambien tienden la preferencia del tema HUMBLE(artista Kendrick Lamar),que en un 2.04% de las transacciones de eligieron ambos temas musicales. De un 61.81% de los casos donde se escucho el tema XO TOUR Llif3 el usuario tambien prefirio el tema HUMBLE.\n",
        " \n",
        "‾‾‾‾‾‾‾‾‾‾‾‾‾‾‾‾‾‾‾‾‾‾‾‾‾‾‾‾‾‾‾‾‾‾‾‾‾‾‾‾‾‾‾‾‾‾‾‾‾‾‾‾‾‾‾‾‾‾‾‾\n",
        "*    REGLA Nº: 1\n",
        "*    REGLA: [Bounce Back] → [Bad and Boujee (feat. Lil Uzi Vert)]\t\n",
        "*    SUPPORT: 0.0169\t\n",
        "*    CONFIDENCE: 0.563333\n",
        "*    LIFT:15.958451\n",
        "*    EXPLICACIÓN:Dado que los usuarios de spotfy escuchan Bounce Back(musica del grupo BTS ) tambien tienden los usuarios a escuchar el tema Bad and Boujee (feat. Lil Uzi Vert),que en el 1.90% de las 10000 transacciones se eligieron a habos temas nusicales en la reproducion del playlist. De un 81.89% de lo casos donde se escucho DNA el usuario tambien escucho Bad and Boujee (feat. Lil Uzi Vert).\n",
        " \n",
        "‾‾‾‾‾‾‾‾‾‾‾‾‾‾‾‾‾‾‾‾‾‾‾‾‾‾‾‾‾‾‾‾‾‾‾‾‾‾‾‾‾‾‾‾‾‾‾‾‾‾‾‾‾‾‾‾‾‾‾‾"
      ]
    },
    {
      "cell_type": "markdown",
      "metadata": {
        "id": "x4GzBOdEOU8n"
      },
      "source": [
        "f## 5.1. WordCloud"
      ]
    },
    {
      "cell_type": "code",
      "execution_count": null,
      "metadata": {
        "id": "TFoPKR2m_3jk",
        "colab": {
          "base_uri": "https://localhost:8080/",
          "height": 596
        },
        "outputId": "290dc0fa-3d57-40d3-cc09-b0e523f22700"
      },
      "outputs": [
        {
          "output_type": "display_data",
          "data": {
            "text/plain": [
              "<Figure size 720x720 with 1 Axes>"
            ],
            "image/png": "[encoded data removed]"
          },
          "metadata": {
            "needs_background": "light"
          }
        }
      ],
      "source": [
        "import matplotlib.pyplot as plt\n",
        "import seaborn as sns\n",
        "\n",
        "from wordcloud import WordCloud\n",
        "\n",
        "plt.rcParams['figure.figsize'] = (10,10)\n",
        "wordcloud = WordCloud(background_color = 'white', width = 1200,  height = 1200, max_words = 121).generate(str(Reglas))\n",
        "plt.imshow(wordcloud)\n",
        "plt.axis('off')\n",
        "plt.title('Items',fontsize = 20)\n",
        "plt.show()"
      ]
    },
    {
      "cell_type": "markdown",
      "source": [
        "\n",
        "\n",
        "*   Podemos ver que\n",
        "*   Que el itemset con mayor confianza es el tema musical HUMBLE que tiene un aproximado de un 82%  \n",
        "*   Que el itemset que tiene confiana  con un 60 % es XO TOUR Llif3 \n",
        "\n",
        "\n"
      ],
      "metadata": {
        "id": "CGAUTPvp1U8N"
      }
    },
    {
      "cell_type": "markdown",
      "metadata": {
        "id": "ocMbJYsuOXyt"
      },
      "source": [
        "## 5.2. Support vs Confidence"
      ]
    },
    {
      "cell_type": "code",
      "execution_count": null,
      "metadata": {
        "id": "ZIYJeT_rA_cN",
        "colab": {
          "base_uri": "https://localhost:8080/",
          "height": 542
        },
        "outputId": "5cd997fb-6c3e-4ab2-8763-d6185ed86c55"
      },
      "outputs": [
        {
          "output_type": "display_data",
          "data": {
            "text/html": [
              "<html>\n",
              "<head><meta charset=\"utf-8\" /></head>\n",
              "<body>\n",
              "    <div>            <script src=\"https://cdnjs.cloudflare.com/ajax/libs/mathjax/2.7.5/MathJax.js?config=TeX-AMS-MML_SVG\"></script><script type=\"text/javascript\">if (window.MathJax) {MathJax.Hub.Config({SVG: {font: \"STIX-Web\"}});}</script>                <script type=\"text/javascript\">window.PlotlyConfig = {MathJaxConfig: 'local'};</script>\n",
              "        <script src=\"https://cdn.plot.ly/plotly-2.8.3.min.js\"></script>                <div id=\"517fbeb1-7041-4958-9be8-34660ded1769\" class=\"plotly-graph-div\" style=\"height:525px; width:100%;\"></div>            <script type=\"text/javascript\">                                    window.PLOTLYENV=window.PLOTLYENV || {};                                    if (document.getElementById(\"517fbeb1-7041-4958-9be8-34660ded1769\")) {                    Plotly.newPlot(                        \"517fbeb1-7041-4958-9be8-34660ded1769\",                        [{\"hovertemplate\":\"x=%{x}<br>index=%{y}<extra></extra>\",\"legendgroup\":\"\",\"marker\":{\"color\":\"#636efa\",\"symbol\":\"circle\"},\"mode\":\"markers\",\"name\":\"\",\"orientation\":\"h\",\"showlegend\":false,\"x\":[0.5633333333333334,0.521951219512195,0.5126582278481012,0.5424242424242424,0.8189655172413793,0.6455696202531646,0.6181818181818182,0.5422077922077921,0.5158227848101264],\"xaxis\":\"x\",\"y\":[0,1,2,3,4,5,6,7,8],\"yaxis\":\"y\",\"type\":\"scatter\"}],                        {\"template\":{\"data\":{\"bar\":[{\"error_x\":{\"color\":\"#2a3f5f\"},\"error_y\":{\"color\":\"#2a3f5f\"},\"marker\":{\"line\":{\"color\":\"#E5ECF6\",\"width\":0.5},\"pattern\":{\"fillmode\":\"overlay\",\"size\":10,\"solidity\":0.2}},\"type\":\"bar\"}],\"barpolar\":[{\"marker\":{\"line\":{\"color\":\"#E5ECF6\",\"width\":0.5},\"pattern\":{\"fillmode\":\"overlay\",\"size\":10,\"solidity\":0.2}},\"type\":\"barpolar\"}],\"carpet\":[{\"aaxis\":{\"endlinecolor\":\"#2a3f5f\",\"gridcolor\":\"white\",\"linecolor\":\"white\",\"minorgridcolor\":\"white\",\"startlinecolor\":\"#2a3f5f\"},\"baxis\":{\"endlinecolor\":\"#2a3f5f\",\"gridcolor\":\"white\",\"linecolor\":\"white\",\"minorgridcolor\":\"white\",\"startlinecolor\":\"#2a3f5f\"},\"type\":\"carpet\"}],\"choropleth\":[{\"colorbar\":{\"outlinewidth\":0,\"ticks\":\"\"},\"type\":\"choropleth\"}],\"contour\":[{\"colorbar\":{\"outlinewidth\":0,\"ticks\":\"\"},\"colorscale\":[[0.0,\"#0d0887\"],[0.1111111111111111,\"#46039f\"],[0.2222222222222222,\"#7201a8\"],[0.3333333333333333,\"#9c179e\"],[0.4444444444444444,\"#bd3786\"],[0.5555555555555556,\"#d8576b\"],[0.6666666666666666,\"#ed7953\"],[0.7777777777777778,\"#fb9f3a\"],[0.8888888888888888,\"#fdca26\"],[1.0,\"#f0f921\"]],\"type\":\"contour\"}],\"contourcarpet\":[{\"colorbar\":{\"outlinewidth\":0,\"ticks\":\"\"},\"type\":\"contourcarpet\"}],\"heatmap\":[{\"colorbar\":{\"outlinewidth\":0,\"ticks\":\"\"},\"colorscale\":[[0.0,\"#0d0887\"],[0.1111111111111111,\"#46039f\"],[0.2222222222222222,\"#7201a8\"],[0.3333333333333333,\"#9c179e\"],[0.4444444444444444,\"#bd3786\"],[0.5555555555555556,\"#d8576b\"],[0.6666666666666666,\"#ed7953\"],[0.7777777777777778,\"#fb9f3a\"],[0.8888888888888888,\"#fdca26\"],[1.0,\"#f0f921\"]],\"type\":\"heatmap\"}],\"heatmapgl\":[{\"colorbar\":{\"outlinewidth\":0,\"ticks\":\"\"},\"colorscale\":[[0.0,\"#0d0887\"],[0.1111111111111111,\"#46039f\"],[0.2222222222222222,\"#7201a8\"],[0.3333333333333333,\"#9c179e\"],[0.4444444444444444,\"#bd3786\"],[0.5555555555555556,\"#d8576b\"],[0.6666666666666666,\"#ed7953\"],[0.7777777777777778,\"#fb9f3a\"],[0.8888888888888888,\"#fdca26\"],[1.0,\"#f0f921\"]],\"type\":\"heatmapgl\"}],\"histogram\":[{\"marker\":{\"pattern\":{\"fillmode\":\"overlay\",\"size\":10,\"solidity\":0.2}},\"type\":\"histogram\"}],\"histogram2d\":[{\"colorbar\":{\"outlinewidth\":0,\"ticks\":\"\"},\"colorscale\":[[0.0,\"#0d0887\"],[0.1111111111111111,\"#46039f\"],[0.2222222222222222,\"#7201a8\"],[0.3333333333333333,\"#9c179e\"],[0.4444444444444444,\"#bd3786\"],[0.5555555555555556,\"#d8576b\"],[0.6666666666666666,\"#ed7953\"],[0.7777777777777778,\"#fb9f3a\"],[0.8888888888888888,\"#fdca26\"],[1.0,\"#f0f921\"]],\"type\":\"histogram2d\"}],\"histogram2dcontour\":[{\"colorbar\":{\"outlinewidth\":0,\"ticks\":\"\"},\"colorscale\":[[0.0,\"#0d0887\"],[0.1111111111111111,\"#46039f\"],[0.2222222222222222,\"#7201a8\"],[0.3333333333333333,\"#9c179e\"],[0.4444444444444444,\"#bd3786\"],[0.5555555555555556,\"#d8576b\"],[0.6666666666666666,\"#ed7953\"],[0.7777777777777778,\"#fb9f3a\"],[0.8888888888888888,\"#fdca26\"],[1.0,\"#f0f921\"]],\"type\":\"histogram2dcontour\"}],\"mesh3d\":[{\"colorbar\":{\"outlinewidth\":0,\"ticks\":\"\"},\"type\":\"mesh3d\"}],\"parcoords\":[{\"line\":{\"colorbar\":{\"outlinewidth\":0,\"ticks\":\"\"}},\"type\":\"parcoords\"}],\"pie\":[{\"automargin\":true,\"type\":\"pie\"}],\"scatter\":[{\"marker\":{\"colorbar\":{\"outlinewidth\":0,\"ticks\":\"\"}},\"type\":\"scatter\"}],\"scatter3d\":[{\"line\":{\"colorbar\":{\"outlinewidth\":0,\"ticks\":\"\"}},\"marker\":{\"colorbar\":{\"outlinewidth\":0,\"ticks\":\"\"}},\"type\":\"scatter3d\"}],\"scattercarpet\":[{\"marker\":{\"colorbar\":{\"outlinewidth\":0,\"ticks\":\"\"}},\"type\":\"scattercarpet\"}],\"scattergeo\":[{\"marker\":{\"colorbar\":{\"outlinewidth\":0,\"ticks\":\"\"}},\"type\":\"scattergeo\"}],\"scattergl\":[{\"marker\":{\"colorbar\":{\"outlinewidth\":0,\"ticks\":\"\"}},\"type\":\"scattergl\"}],\"scattermapbox\":[{\"marker\":{\"colorbar\":{\"outlinewidth\":0,\"ticks\":\"\"}},\"type\":\"scattermapbox\"}],\"scatterpolar\":[{\"marker\":{\"colorbar\":{\"outlinewidth\":0,\"ticks\":\"\"}},\"type\":\"scatterpolar\"}],\"scatterpolargl\":[{\"marker\":{\"colorbar\":{\"outlinewidth\":0,\"ticks\":\"\"}},\"type\":\"scatterpolargl\"}],\"scatterternary\":[{\"marker\":{\"colorbar\":{\"outlinewidth\":0,\"ticks\":\"\"}},\"type\":\"scatterternary\"}],\"surface\":[{\"colorbar\":{\"outlinewidth\":0,\"ticks\":\"\"},\"colorscale\":[[0.0,\"#0d0887\"],[0.1111111111111111,\"#46039f\"],[0.2222222222222222,\"#7201a8\"],[0.3333333333333333,\"#9c179e\"],[0.4444444444444444,\"#bd3786\"],[0.5555555555555556,\"#d8576b\"],[0.6666666666666666,\"#ed7953\"],[0.7777777777777778,\"#fb9f3a\"],[0.8888888888888888,\"#fdca26\"],[1.0,\"#f0f921\"]],\"type\":\"surface\"}],\"table\":[{\"cells\":{\"fill\":{\"color\":\"#EBF0F8\"},\"line\":{\"color\":\"white\"}},\"header\":{\"fill\":{\"color\":\"#C8D4E3\"},\"line\":{\"color\":\"white\"}},\"type\":\"table\"}]},\"layout\":{\"annotationdefaults\":{\"arrowcolor\":\"#2a3f5f\",\"arrowhead\":0,\"arrowwidth\":1},\"autotypenumbers\":\"strict\",\"coloraxis\":{\"colorbar\":{\"outlinewidth\":0,\"ticks\":\"\"}},\"colorscale\":{\"diverging\":[[0,\"#8e0152\"],[0.1,\"#c51b7d\"],[0.2,\"#de77ae\"],[0.3,\"#f1b6da\"],[0.4,\"#fde0ef\"],[0.5,\"#f7f7f7\"],[0.6,\"#e6f5d0\"],[0.7,\"#b8e186\"],[0.8,\"#7fbc41\"],[0.9,\"#4d9221\"],[1,\"#276419\"]],\"sequential\":[[0.0,\"#0d0887\"],[0.1111111111111111,\"#46039f\"],[0.2222222222222222,\"#7201a8\"],[0.3333333333333333,\"#9c179e\"],[0.4444444444444444,\"#bd3786\"],[0.5555555555555556,\"#d8576b\"],[0.6666666666666666,\"#ed7953\"],[0.7777777777777778,\"#fb9f3a\"],[0.8888888888888888,\"#fdca26\"],[1.0,\"#f0f921\"]],\"sequentialminus\":[[0.0,\"#0d0887\"],[0.1111111111111111,\"#46039f\"],[0.2222222222222222,\"#7201a8\"],[0.3333333333333333,\"#9c179e\"],[0.4444444444444444,\"#bd3786\"],[0.5555555555555556,\"#d8576b\"],[0.6666666666666666,\"#ed7953\"],[0.7777777777777778,\"#fb9f3a\"],[0.8888888888888888,\"#fdca26\"],[1.0,\"#f0f921\"]]},\"colorway\":[\"#636efa\",\"#EF553B\",\"#00cc96\",\"#ab63fa\",\"#FFA15A\",\"#19d3f3\",\"#FF6692\",\"#B6E880\",\"#FF97FF\",\"#FECB52\"],\"font\":{\"color\":\"#2a3f5f\"},\"geo\":{\"bgcolor\":\"white\",\"lakecolor\":\"white\",\"landcolor\":\"#E5ECF6\",\"showlakes\":true,\"showland\":true,\"subunitcolor\":\"white\"},\"hoverlabel\":{\"align\":\"left\"},\"hovermode\":\"closest\",\"mapbox\":{\"style\":\"light\"},\"paper_bgcolor\":\"white\",\"plot_bgcolor\":\"#E5ECF6\",\"polar\":{\"angularaxis\":{\"gridcolor\":\"white\",\"linecolor\":\"white\",\"ticks\":\"\"},\"bgcolor\":\"#E5ECF6\",\"radialaxis\":{\"gridcolor\":\"white\",\"linecolor\":\"white\",\"ticks\":\"\"}},\"scene\":{\"xaxis\":{\"backgroundcolor\":\"#E5ECF6\",\"gridcolor\":\"white\",\"gridwidth\":2,\"linecolor\":\"white\",\"showbackground\":true,\"ticks\":\"\",\"zerolinecolor\":\"white\"},\"yaxis\":{\"backgroundcolor\":\"#E5ECF6\",\"gridcolor\":\"white\",\"gridwidth\":2,\"linecolor\":\"white\",\"showbackground\":true,\"ticks\":\"\",\"zerolinecolor\":\"white\"},\"zaxis\":{\"backgroundcolor\":\"#E5ECF6\",\"gridcolor\":\"white\",\"gridwidth\":2,\"linecolor\":\"white\",\"showbackground\":true,\"ticks\":\"\",\"zerolinecolor\":\"white\"}},\"shapedefaults\":{\"line\":{\"color\":\"#2a3f5f\"}},\"ternary\":{\"aaxis\":{\"gridcolor\":\"white\",\"linecolor\":\"white\",\"ticks\":\"\"},\"baxis\":{\"gridcolor\":\"white\",\"linecolor\":\"white\",\"ticks\":\"\"},\"bgcolor\":\"#E5ECF6\",\"caxis\":{\"gridcolor\":\"white\",\"linecolor\":\"white\",\"ticks\":\"\"}},\"title\":{\"x\":0.05},\"xaxis\":{\"automargin\":true,\"gridcolor\":\"white\",\"linecolor\":\"white\",\"ticks\":\"\",\"title\":{\"standoff\":15},\"zerolinecolor\":\"white\",\"zerolinewidth\":2},\"yaxis\":{\"automargin\":true,\"gridcolor\":\"white\",\"linecolor\":\"white\",\"ticks\":\"\",\"title\":{\"standoff\":15},\"zerolinecolor\":\"white\",\"zerolinewidth\":2}}},\"xaxis\":{\"anchor\":\"y\",\"domain\":[0.0,1.0],\"title\":{\"text\":\"support\"}},\"yaxis\":{\"anchor\":\"x\",\"domain\":[0.0,1.0],\"title\":{\"text\":\"confidence\"}},\"legend\":{\"tracegroupgap\":0},\"margin\":{\"t\":60},\"font\":{\"family\":\"Courier New\",\"color\":\"blue\"},\"title\":{\"text\":\"Support vs Confidence\"}},                        {\"responsive\": true}                    ).then(function(){\n",
              "                            \n",
              "var gd = document.getElementById('517fbeb1-7041-4958-9be8-34660ded1769');\n",
              "var x = new MutationObserver(function (mutations, observer) {{\n",
              "        var display = window.getComputedStyle(gd).display;\n",
              "        if (!display || display === 'none') {{\n",
              "            console.log([gd, 'removed!']);\n",
              "            Plotly.purge(gd);\n",
              "            observer.disconnect();\n",
              "        }}\n",
              "}});\n",
              "\n",
              "// Listen for the removal of the full notebook cells\n",
              "var notebookContainer = gd.closest('#notebook-container');\n",
              "if (notebookContainer) {{\n",
              "    x.observe(notebookContainer, {childList: true});\n",
              "}}\n",
              "\n",
              "// Listen for the clearing of the current output cell\n",
              "var outputEl = gd.closest('.output');\n",
              "if (outputEl) {{\n",
              "    x.observe(outputEl, {childList: true});\n",
              "}}\n",
              "\n",
              "                        })                };                            </script>        </div>\n",
              "</body>\n",
              "</html>"
            ]
          },
          "metadata": {}
        }
      ],
      "source": [
        "import plotly.express as px\n",
        "\n",
        "fig=px.scatter(df['Support'], df['Confidence'])\n",
        "fig.update_layout(\n",
        "    xaxis_title=\"support\",\n",
        "    yaxis_title=\"confidence\",\n",
        "   \n",
        "    font_family=\"Courier New\",\n",
        "    font_color=\"blue\",\n",
        "    title_font_family=\"Times New Roman\",\n",
        "    title_font_color=\"red\",\n",
        "    title=('Support vs Confidence')\n",
        "    \n",
        ")\n",
        "\n",
        "fig.show()"
      ]
    },
    {
      "cell_type": "markdown",
      "metadata": {
        "id": "oUUDarJyOhmY"
      },
      "source": [
        "## 5.3. Lift vs Confidence"
      ]
    },
    {
      "cell_type": "code",
      "execution_count": null,
      "metadata": {
        "id": "NwkNpuGyFFou",
        "colab": {
          "base_uri": "https://localhost:8080/",
          "height": 638
        },
        "outputId": "d76fe469-fc5a-4d2e-9c94-116621c027f3"
      },
      "outputs": [
        {
          "output_type": "execute_result",
          "data": {
            "text/plain": [
              "Text(0.5, 1.0, 'lift vs Confidence')"
            ]
          },
          "metadata": {},
          "execution_count": 18
        },
        {
          "output_type": "display_data",
          "data": {
            "text/plain": [
              "<Figure size 720x720 with 1 Axes>"
            ],
            "image/png": "[encoded data removed]"
          },
          "metadata": {
            "needs_background": "light"
          }
        }
      ],
      "source": [
        "fit = np.polyfit(df['Lift'], df['Confidence'], 1)\n",
        "fit_fn = np.poly1d(fit)\n",
        "plt.plot(df['Lift'], df['Confidence'], 'yo', df['Lift'], \n",
        "fit_fn(df['Lift']))\n",
        "plt.xlabel('lift')\n",
        "plt.ylabel('Confidence')\n",
        "plt.title('lift vs Confidence')"
      ]
    }
  ],
  "metadata": {
    "colab": {
      "collapsed_sections": [],
      "name": "Apriori_Algorithm.ipynb",
      "provenance": []
    },
    "gpuClass": "standard",
    "kernelspec": {
      "display_name": "Python 3",
      "name": "python3"
    },
    "language_info": {
      "name": "python"
    },
    "accelerator": "GPU"
  },
  "nbformat": 4,
  "nbformat_minor": 0
}